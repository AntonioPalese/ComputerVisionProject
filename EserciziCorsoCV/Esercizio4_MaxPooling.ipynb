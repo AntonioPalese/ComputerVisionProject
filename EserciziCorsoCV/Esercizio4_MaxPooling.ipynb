{
 "cells": [
  {
   "cell_type": "code",
   "execution_count": 1,
   "metadata": {},
   "outputs": [],
   "source": [
    "import random\n",
    "import torch\n",
    "\n",
    "n = random.randint(2, 6)\n",
    "iC = random.randint(2, 6)\n",
    "H = random.randint(10, 20)\n",
    "W = random.randint(10, 20)\n",
    "kH = random.randint(2, 5)\n",
    "kW = random.randint(2, 5)\n",
    "s = random.randint(2, 3)\n",
    "input = torch.rand((n, iC, H, W), dtype=torch.float32)"
   ]
  },
  {
   "cell_type": "code",
   "execution_count": 19,
   "metadata": {},
   "outputs": [],
   "source": [
    "out = torch.zeros((n,iC, (H - kH) // s + 1, (W - kW) // s + 1))  \n",
    "for r in range(0,(H - kH) // s + 1):\n",
    "    for c in range(0, (W - kW) // s + 1):\n",
    "        window = input[:,:,r*s:r*s+kH,c*s:c*s+kW]\n",
    "        window = window.reshape((n,iC, kH, kW))\n",
    "        res1 = torch.max(window, 3)[0]\n",
    "        res2 = torch.max(res1, 2)[0]\n",
    "        res = res2\n",
    "        out[:,:,  r, c] = res\n",
    "        #print(res.shape, (r, c))\n",
    "    "
   ]
  },
  {
   "cell_type": "code",
   "execution_count": 20,
   "metadata": {},
   "outputs": [
    {
     "data": {
      "text/plain": [
       "(torch.Size([5, 2, 9, 7]), 5, 2, 20, 17, 4, 4, 2)"
      ]
     },
     "execution_count": 20,
     "metadata": {},
     "output_type": "execute_result"
    }
   ],
   "source": [
    "out.shape, n, iC, H, W, kH, kW, s"
   ]
  },
  {
   "cell_type": "code",
   "execution_count": 22,
   "metadata": {},
   "outputs": [],
   "source": [
    "out = torch.zeros((n, iC, (H - kH) // s + 1,(W - kW) // s + 1))\n",
    "for r in range(0,(H - kH) // s + 1):\n",
    "    for c in range(0, (W - kW) // s + 1):\n",
    "        out[:,:, r, c] = torch.max(torch.max((input[:,:,r*s:r*s+kH,c*s:c*s+kW]), 3)[0], 2)[0]\n",
    "       \n",
    "    "
   ]
  },
  {
   "cell_type": "code",
   "execution_count": 23,
   "metadata": {},
   "outputs": [
    {
     "data": {
      "text/plain": [
       "(torch.Size([5, 2, 9, 7]), 5, 2, 20, 17, 4, 4, 2)"
      ]
     },
     "execution_count": 23,
     "metadata": {},
     "output_type": "execute_result"
    }
   ],
   "source": [
    "out.shape, n, iC, H, W, kH, kW, s"
   ]
  },
  {
   "cell_type": "code",
   "execution_count": null,
   "metadata": {},
   "outputs": [],
   "source": []
  }
 ],
 "metadata": {
  "kernelspec": {
   "display_name": "Python 3",
   "language": "python",
   "name": "python3"
  },
  "language_info": {
   "codemirror_mode": {
    "name": "ipython",
    "version": 3
   },
   "file_extension": ".py",
   "mimetype": "text/x-python",
   "name": "python",
   "nbconvert_exporter": "python",
   "pygments_lexer": "ipython3",
   "version": "3.8.5"
  }
 },
 "nbformat": 4,
 "nbformat_minor": 4
}
