{
 "cells": [
  {
   "cell_type": "code",
   "execution_count": 124,
   "id": "981ea811",
   "metadata": {},
   "outputs": [],
   "source": [
    "import torch\n",
    "import numpy as np\n",
    "import matplotlib.pyplot as plt\n",
    "import torch.nn as nn\n",
    "\n",
    "class ResidualBlock(nn.Module):\n",
    "    def __init__(self,inplanes, planes, stride):\n",
    "        super(ResidualBlock, self).__init__()\n",
    "        \n",
    "        self.inplanes = inplanes\n",
    "        self.stride = stride\n",
    "        self.planes = planes\n",
    "        \n",
    "        self.conv1 = nn.Conv2d(inplanes, planes, 3, stride=stride, padding=1, dilation=1, \n",
    "                               groups=1, bias=False, padding_mode='zeros')\n",
    "        self.conv2 = nn.Conv2d(planes, planes, 3, stride=1, padding=1, dilation=1, \n",
    "                               groups=1, bias=False, padding_mode='zeros')\n",
    "        \n",
    "        self.batchNorm1 = nn.BatchNorm2d(planes)\n",
    "        self.batchNorm2 = nn.BatchNorm2d(planes)     \n",
    "        self.batchNormSH = nn.BatchNorm2d(planes)   \n",
    "        \n",
    "        self.GFunction = nn.Conv2d(inplanes, planes, 1, stride=stride, padding=0, dilation=1, \n",
    "                                   groups=1, bias=False, padding_mode='zeros')\n",
    "    def forward(self, X):\n",
    "        conv_layer = self.batchNorm2(self.conv2(torch.relu(self.batchNorm1(self.conv1(X)))))\n",
    "        \n",
    "        if self.planes != self.inplanes or self.stride > 1:\n",
    "            out = torch.relu(conv_layer + self.batchNormSH(self.GFunction(X)))\n",
    "            \n",
    "            \n",
    "        else:\n",
    "            out = torch.relu(conv_layer + X)\n",
    "            \n",
    "        return out\n",
    "        \n",
    "        \n",
    "        \n",
    "        \n",
    "        \n",
    "    "
   ]
  },
  {
   "cell_type": "code",
   "execution_count": 125,
   "id": "b431c28e",
   "metadata": {},
   "outputs": [],
   "source": [
    "model = ResidualBlock(3, 100, 1) #(input_planes, planes, stride)\n"
   ]
  },
  {
   "cell_type": "code",
   "execution_count": 126,
   "id": "e627033e",
   "metadata": {},
   "outputs": [
    {
     "data": {
      "image/png": "[encoded data removed]",
      "text/plain": [
       "<Figure size 432x288 with 1 Axes>"
      ]
     },
     "metadata": {
      "needs_background": "light"
     },
     "output_type": "display_data"
    }
   ],
   "source": [
    "X = torch.randint(0, 255, (200, 3, 10, 10), dtype=torch.uint8)\n",
    "plt.imshow(X[0].permute(1, 2, 0))\n",
    "\n",
    "X = X.to(torch.float32)\n",
    "\n",
    "out = model(X)\n",
    "\n"
   ]
  },
  {
   "cell_type": "code",
   "execution_count": 127,
   "id": "4322fbf8",
   "metadata": {},
   "outputs": [
    {
     "data": {
      "text/plain": [
       "torch.Size([200, 100, 10, 10])"
      ]
     },
     "execution_count": 127,
     "metadata": {},
     "output_type": "execute_result"
    }
   ],
   "source": [
    "out.shape"
   ]
  },
  {
   "cell_type": "code",
   "execution_count": 128,
   "id": "1fefa0fb",
   "metadata": {},
   "outputs": [
    {
     "name": "stderr",
     "output_type": "stream",
     "text": [
      "Clipping input data to the valid range for imshow with RGB data ([0..1] for floats or [0..255] for integers).\n"
     ]
    },
    {
     "data": {
      "text/plain": [
       "<matplotlib.image.AxesImage at 0x257802eaa90>"
      ]
     },
     "execution_count": 128,
     "metadata": {},
     "output_type": "execute_result"
    },
    {
     "data": {
      "image/png": "[encoded data removed]",
      "text/plain": [
       "<Figure size 432x288 with 1 Axes>"
      ]
     },
     "metadata": {
      "needs_background": "light"
     },
     "output_type": "display_data"
    }
   ],
   "source": [
    "plt.imshow(out[0, :3].detach().permute(1, 2, 0))"
   ]
  },
  {
   "cell_type": "code",
   "execution_count": 129,
   "id": "396da450",
   "metadata": {},
   "outputs": [
    {
     "data": {
      "text/plain": [
       "torch.float32"
      ]
     },
     "execution_count": 129,
     "metadata": {},
     "output_type": "execute_result"
    }
   ],
   "source": [
    "out.dtype"
   ]
  },
  {
   "cell_type": "code",
   "execution_count": null,
   "id": "a62261d9",
   "metadata": {},
   "outputs": [],
   "source": []
  }
 ],
 "metadata": {
  "kernelspec": {
   "display_name": "Python 3",
   "language": "python",
   "name": "python3"
  },
  "language_info": {
   "codemirror_mode": {
    "name": "ipython",
    "version": 3
   },
   "file_extension": ".py",
   "mimetype": "text/x-python",
   "name": "python",
   "nbconvert_exporter": "python",
   "pygments_lexer": "ipython3",
   "version": "3.8.8"
  }
 },
 "nbformat": 4,
 "nbformat_minor": 5
}
