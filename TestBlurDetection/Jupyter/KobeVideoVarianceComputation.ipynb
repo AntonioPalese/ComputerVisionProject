{
 "cells": [
  {
   "cell_type": "code",
   "execution_count": 7,
   "id": "6f9bcb4a",
   "metadata": {},
   "outputs": [
    {
     "ename": "RuntimeError",
     "evalue": "Not compiled with video_reader support, to enable video_reader support, please install ffmpeg (version 4.2 is currently supported) andbuild torchvision from source.",
     "output_type": "error",
     "traceback": [
      "\u001b[1;31m---------------------------------------------------------------------------\u001b[0m",
      "\u001b[1;31mRuntimeError\u001b[0m                              Traceback (most recent call last)",
      "\u001b[1;32m<ipython-input-7-602a285cca8a>\u001b[0m in \u001b[0;36m<module>\u001b[1;34m\u001b[0m\n\u001b[0;32m      3\u001b[0m \u001b[1;31m# instance per video. At the moment it takes two arguments:\u001b[0m\u001b[1;33m\u001b[0m\u001b[1;33m\u001b[0m\u001b[1;33m\u001b[0m\u001b[0m\n\u001b[0;32m      4\u001b[0m \u001b[1;31m# path to the video file, and a wanted stream.\u001b[0m\u001b[1;33m\u001b[0m\u001b[1;33m\u001b[0m\u001b[1;33m\u001b[0m\u001b[0m\n\u001b[1;32m----> 5\u001b[1;33m \u001b[0mreader\u001b[0m \u001b[1;33m=\u001b[0m \u001b[0mtorchvision\u001b[0m\u001b[1;33m.\u001b[0m\u001b[0mio\u001b[0m\u001b[1;33m.\u001b[0m\u001b[0mVideoReader\u001b[0m\u001b[1;33m(\u001b[0m\u001b[0mvideo_path\u001b[0m\u001b[1;33m,\u001b[0m \u001b[1;34m\"video\"\u001b[0m\u001b[1;33m)\u001b[0m\u001b[1;33m\u001b[0m\u001b[1;33m\u001b[0m\u001b[0m\n\u001b[0m\u001b[0;32m      6\u001b[0m \u001b[1;33m\u001b[0m\u001b[0m\n\u001b[0;32m      7\u001b[0m \u001b[1;31m# The information about the video can be retrieved using the\u001b[0m\u001b[1;33m\u001b[0m\u001b[1;33m\u001b[0m\u001b[1;33m\u001b[0m\u001b[0m\n",
      "\u001b[1;32m~\\anaconda3\\envs\\MachineLearning\\lib\\site-packages\\torchvision\\io\\__init__.py\u001b[0m in \u001b[0;36m__init__\u001b[1;34m(self, path, stream)\u001b[0m\n\u001b[0;32m    101\u001b[0m     \u001b[1;32mdef\u001b[0m \u001b[0m__init__\u001b[0m\u001b[1;33m(\u001b[0m\u001b[0mself\u001b[0m\u001b[1;33m,\u001b[0m \u001b[0mpath\u001b[0m\u001b[1;33m,\u001b[0m \u001b[0mstream\u001b[0m\u001b[1;33m=\u001b[0m\u001b[1;34m\"video\"\u001b[0m\u001b[1;33m)\u001b[0m\u001b[1;33m:\u001b[0m\u001b[1;33m\u001b[0m\u001b[1;33m\u001b[0m\u001b[0m\n\u001b[0;32m    102\u001b[0m         \u001b[1;32mif\u001b[0m \u001b[1;32mnot\u001b[0m \u001b[0m_has_video_opt\u001b[0m\u001b[1;33m(\u001b[0m\u001b[1;33m)\u001b[0m\u001b[1;33m:\u001b[0m\u001b[1;33m\u001b[0m\u001b[1;33m\u001b[0m\u001b[0m\n\u001b[1;32m--> 103\u001b[1;33m             raise RuntimeError(\n\u001b[0m\u001b[0;32m    104\u001b[0m                 \u001b[1;34m\"Not compiled with video_reader support, \"\u001b[0m\u001b[1;33m\u001b[0m\u001b[1;33m\u001b[0m\u001b[0m\n\u001b[0;32m    105\u001b[0m                 \u001b[1;33m+\u001b[0m \u001b[1;34m\"to enable video_reader support, please install \"\u001b[0m\u001b[1;33m\u001b[0m\u001b[1;33m\u001b[0m\u001b[0m\n",
      "\u001b[1;31mRuntimeError\u001b[0m: Not compiled with video_reader support, to enable video_reader support, please install ffmpeg (version 4.2 is currently supported) andbuild torchvision from source."
     ]
    }
   ],
   "source": [
    "video_path = \"Kobe.mp4\"\n",
    "# Constructor allocates memory and a threaded decoder\n",
    "# instance per video. At the moment it takes two arguments:\n",
    "# path to the video file, and a wanted stream.\n",
    "reader = torchvision.io.VideoReader(video_path, \"video\")\n",
    "\n",
    "# The information about the video can be retrieved using the\n",
    "# `get_metadata()` method. It returns a dictionary for every stream, with\n",
    "# duration and other relevant metadata (often frame rate)\n",
    "reader_md = reader.get_metadata()\n",
    "\n",
    "# metadata is structured as a dict of dicts with following structure\n",
    "# {\"stream_type\": {\"attribute\": [attribute per stream]}}\n",
    "#\n",
    "# following would print out the list of frame rates for every present video stream\n",
    "print(reader_md[\"video\"][\"fps\"])\n",
    "\n",
    "# we explicitly select the stream we would like to operate on. In\n",
    "# the constructor we select a default video stream, but\n",
    "# in practice, we can set whichever stream we would like\n",
    "video.set_current_stream(\"video:0\")"
   ]
  },
  {
   "cell_type": "code",
   "execution_count": 15,
   "id": "e971793c",
   "metadata": {},
   "outputs": [
    {
     "name": "stdout",
     "output_type": "stream",
     "text": [
      "(tensor([[[[ 39,  15,  33],\n",
      "          [ 32,   8,  26],\n",
      "          [ 33,   9,  27],\n",
      "          ...,\n",
      "          [  9,   4,   6],\n",
      "          [  8,   3,   5],\n",
      "          [  8,   3,   5]],\n",
      "\n",
      "         [[ 45,  21,  39],\n",
      "          [ 37,  13,  31],\n",
      "          [ 34,  10,  28],\n",
      "          ...,\n",
      "          [  8,   3,   5],\n",
      "          [  8,   3,   5],\n",
      "          [  8,   3,   5]],\n",
      "\n",
      "         [[ 58,  34,  52],\n",
      "          [ 45,  21,  39],\n",
      "          [ 37,  13,  31],\n",
      "          ...,\n",
      "          [  8,   1,   4],\n",
      "          [  9,   2,   5],\n",
      "          [  9,   2,   5]],\n",
      "\n",
      "         ...,\n",
      "\n",
      "         [[ 61,  52,  76],\n",
      "          [ 60,  51,  75],\n",
      "          [ 57,  48,  72],\n",
      "          ...,\n",
      "          [ 70,  62,  79],\n",
      "          [ 21,  13,  30],\n",
      "          [  0,   0,   5]],\n",
      "\n",
      "         [[ 67,  58,  82],\n",
      "          [ 65,  56,  80],\n",
      "          [ 62,  53,  77],\n",
      "          ...,\n",
      "          [ 68,  60,  77],\n",
      "          [ 25,  17,  34],\n",
      "          [  5,   0,  14]],\n",
      "\n",
      "         [[ 58,  49,  73],\n",
      "          [ 56,  47,  71],\n",
      "          [ 54,  45,  69],\n",
      "          ...,\n",
      "          [ 65,  57,  74],\n",
      "          [ 27,  19,  36],\n",
      "          [  9,   1,  18]]],\n",
      "\n",
      "\n",
      "        [[[ 54,  32,  40],\n",
      "          [ 46,  24,  32],\n",
      "          [ 33,  11,  19],\n",
      "          ...,\n",
      "          [ 21,  11,  15],\n",
      "          [ 16,   9,  12],\n",
      "          [ 15,   8,  11]],\n",
      "\n",
      "         [[ 57,  35,  43],\n",
      "          [ 50,  28,  36],\n",
      "          [ 40,  18,  26],\n",
      "          ...,\n",
      "          [ 19,   9,  13],\n",
      "          [ 15,   8,  11],\n",
      "          [ 14,   7,  10]],\n",
      "\n",
      "         [[ 64,  42,  50],\n",
      "          [ 60,  38,  46],\n",
      "          [ 53,  31,  39],\n",
      "          ...,\n",
      "          [ 16,   4,   9],\n",
      "          [ 14,   4,   8],\n",
      "          [ 14,   4,   8]],\n",
      "\n",
      "         ...,\n",
      "\n",
      "         [[ 48,  39,  61],\n",
      "          [ 55,  46,  68],\n",
      "          [ 58,  49,  71],\n",
      "          ...,\n",
      "          [ 12,   4,  21],\n",
      "          [  0,   0,   9],\n",
      "          [ 16,   8,  25]],\n",
      "\n",
      "         [[ 53,  44,  66],\n",
      "          [ 57,  48,  70],\n",
      "          [ 64,  55,  77],\n",
      "          ...,\n",
      "          [  6,   0,  15],\n",
      "          [  0,   0,   3],\n",
      "          [  9,   1,  18]],\n",
      "\n",
      "         [[ 48,  39,  61],\n",
      "          [ 53,  44,  66],\n",
      "          [ 60,  51,  73],\n",
      "          ...,\n",
      "          [  3,   0,  12],\n",
      "          [  0,   0,   0],\n",
      "          [  5,   0,  14]]],\n",
      "\n",
      "\n",
      "        [[[ 54,  32,  40],\n",
      "          [ 54,  32,  40],\n",
      "          [ 53,  31,  39],\n",
      "          ...,\n",
      "          [ 16,   4,   9],\n",
      "          [ 15,   5,   9],\n",
      "          [ 21,  11,  15]],\n",
      "\n",
      "         [[ 58,  36,  44],\n",
      "          [ 58,  36,  44],\n",
      "          [ 57,  35,  43],\n",
      "          ...,\n",
      "          [ 16,   4,   9],\n",
      "          [ 15,   5,   9],\n",
      "          [ 19,   9,  13]],\n",
      "\n",
      "         [[ 65,  43,  51],\n",
      "          [ 65,  43,  51],\n",
      "          [ 64,  42,  50],\n",
      "          ...,\n",
      "          [ 15,   1,   6],\n",
      "          [ 15,   3,   8],\n",
      "          [ 17,   5,  10]],\n",
      "\n",
      "         ...,\n",
      "\n",
      "         [[ 20,  12,  29],\n",
      "          [ 27,  19,  36],\n",
      "          [ 43,  35,  52],\n",
      "          ...,\n",
      "          [ 12,   4,  21],\n",
      "          [  3,   0,  12],\n",
      "          [  4,   0,  13]],\n",
      "\n",
      "         [[ 23,  15,  32],\n",
      "          [ 30,  22,  39],\n",
      "          [ 47,  39,  56],\n",
      "          ...,\n",
      "          [  5,   0,  14],\n",
      "          [  0,   0,   0],\n",
      "          [  0,   0,   0]],\n",
      "\n",
      "         [[ 19,  11,  28],\n",
      "          [ 27,  19,  36],\n",
      "          [ 42,  34,  51],\n",
      "          ...,\n",
      "          [  4,   0,  13],\n",
      "          [  0,   0,   0],\n",
      "          [  0,   0,   0]]],\n",
      "\n",
      "\n",
      "        ...,\n",
      "\n",
      "\n",
      "        [[[ 52,  35,  41],\n",
      "          [ 54,  37,  43],\n",
      "          [ 58,  41,  47],\n",
      "          ...,\n",
      "          [ 33,   6,  20],\n",
      "          [ 23,   0,  13],\n",
      "          [ 22,   0,  12]],\n",
      "\n",
      "         [[ 54,  37,  43],\n",
      "          [ 55,  38,  44],\n",
      "          [ 56,  39,  45],\n",
      "          ...,\n",
      "          [ 33,   6,  20],\n",
      "          [ 23,   0,  13],\n",
      "          [ 22,   0,  12]],\n",
      "\n",
      "         [[ 54,  37,  43],\n",
      "          [ 52,  35,  41],\n",
      "          [ 54,  37,  43],\n",
      "          ...,\n",
      "          [ 33,   6,  20],\n",
      "          [ 23,   0,  13],\n",
      "          [ 22,   0,  12]],\n",
      "\n",
      "         ...,\n",
      "\n",
      "         [[ 11,   4,  16],\n",
      "          [ 11,   4,  16],\n",
      "          [ 11,   4,  16],\n",
      "          ...,\n",
      "          [146, 130,  99],\n",
      "          [ 25,  17,   4],\n",
      "          [  0,   0,   0]],\n",
      "\n",
      "         [[ 11,   4,  16],\n",
      "          [ 11,   4,  16],\n",
      "          [ 11,   4,  16],\n",
      "          ...,\n",
      "          [147, 131, 100],\n",
      "          [ 26,  18,   5],\n",
      "          [  0,   0,   0]],\n",
      "\n",
      "         [[ 11,   4,  16],\n",
      "          [ 11,   4,  16],\n",
      "          [ 11,   4,  16],\n",
      "          ...,\n",
      "          [147, 131, 100],\n",
      "          [ 26,  18,   5],\n",
      "          [  0,   0,   0]]],\n",
      "\n",
      "\n",
      "        [[[ 45,  28,  34],\n",
      "          [ 48,  31,  37],\n",
      "          [ 49,  32,  38],\n",
      "          ...,\n",
      "          [ 33,   6,  20],\n",
      "          [ 23,   0,  13],\n",
      "          [ 22,   0,  12]],\n",
      "\n",
      "         [[ 47,  30,  36],\n",
      "          [ 47,  30,  36],\n",
      "          [ 47,  30,  36],\n",
      "          ...,\n",
      "          [ 33,   6,  20],\n",
      "          [ 23,   0,  13],\n",
      "          [ 22,   0,  12]],\n",
      "\n",
      "         [[ 49,  32,  38],\n",
      "          [ 48,  31,  37],\n",
      "          [ 48,  31,  37],\n",
      "          ...,\n",
      "          [ 33,   6,  20],\n",
      "          [ 23,   0,  13],\n",
      "          [ 22,   0,  12]],\n",
      "\n",
      "         ...,\n",
      "\n",
      "         [[ 10,   6,  17],\n",
      "          [ 10,   6,  17],\n",
      "          [ 10,   6,  17],\n",
      "          ...,\n",
      "          [146, 130,  99],\n",
      "          [ 25,  17,   4],\n",
      "          [  0,   0,   0]],\n",
      "\n",
      "         [[  9,   5,  16],\n",
      "          [  9,   5,  16],\n",
      "          [  9,   5,  16],\n",
      "          ...,\n",
      "          [146, 130,  99],\n",
      "          [ 25,  17,   4],\n",
      "          [  0,   0,   0]],\n",
      "\n",
      "         [[  9,   5,  16],\n",
      "          [  9,   5,  16],\n",
      "          [  9,   5,  16],\n",
      "          ...,\n",
      "          [146, 130,  99],\n",
      "          [ 25,  17,   4],\n",
      "          [  0,   0,   0]]],\n",
      "\n",
      "\n",
      "        [[[ 17,   0,   6],\n",
      "          [ 22,   5,  11],\n",
      "          [ 31,  14,  20],\n",
      "          ...,\n",
      "          [ 30,   3,  15],\n",
      "          [ 22,   0,  10],\n",
      "          [ 22,   0,  10]],\n",
      "\n",
      "         [[ 20,   3,   9],\n",
      "          [ 24,   7,  13],\n",
      "          [ 34,  17,  23],\n",
      "          ...,\n",
      "          [ 30,   3,  15],\n",
      "          [ 22,   0,  10],\n",
      "          [ 22,   0,  10]],\n",
      "\n",
      "         [[ 24,   7,  13],\n",
      "          [ 29,  12,  18],\n",
      "          [ 38,  21,  27],\n",
      "          ...,\n",
      "          [ 30,   3,  15],\n",
      "          [ 22,   0,  10],\n",
      "          [ 22,   0,  10]],\n",
      "\n",
      "         ...,\n",
      "\n",
      "         [[  9,   5,  16],\n",
      "          [  9,   5,  16],\n",
      "          [  9,   5,  16],\n",
      "          ...,\n",
      "          [146, 130,  99],\n",
      "          [ 25,  17,   4],\n",
      "          [  0,   0,   0]],\n",
      "\n",
      "         [[  9,   5,  16],\n",
      "          [  9,   5,  16],\n",
      "          [  9,   5,  16],\n",
      "          ...,\n",
      "          [146, 130,  99],\n",
      "          [ 25,  17,   4],\n",
      "          [  0,   0,   0]],\n",
      "\n",
      "         [[  9,   5,  16],\n",
      "          [  9,   5,  16],\n",
      "          [  9,   5,  16],\n",
      "          ...,\n",
      "          [146, 130,  99],\n",
      "          [ 25,  17,   4],\n",
      "          [  0,   0,   0]]]], dtype=torch.uint8), tensor([[0., 0., 0., 0., 0., 0., 0., 0., 0., 0., 0., 0.]]), {'video_fps': 29.97, 'audio_fps': 44100})\n"
     ]
    }
   ],
   "source": [
    "import cv2\n",
    "import matplotlib.pyplot as plt\n",
    "import numpy as np\n",
    "import torchvision \n",
    "import torch\n",
    "\n",
    "\n",
    "images = torchvision.io.read_video('Kobe.mp4', end_pts=10, pts_unit='sec') \n",
    "print(images)\n",
    "images = images[0].numpy()\n",
    "\n",
    "\n",
    "i = cv2.blur(images[0], (7,7))\n",
    "cv2.imshow(\"Image\", i)\n",
    "cv2.waitKey(0)\n",
    "cv2.destroyAllWindows()\n",
    "\n",
    "images = np.concatenate((images, i[np.newaxis]), axis=0)"
   ]
  },
  {
   "cell_type": "code",
   "execution_count": 16,
   "id": "9bdac233",
   "metadata": {},
   "outputs": [
    {
     "data": {
      "text/plain": [
       "(301, 720, 1280, 3)"
      ]
     },
     "execution_count": 16,
     "metadata": {},
     "output_type": "execute_result"
    }
   ],
   "source": [
    "images.shape"
   ]
  },
  {
   "cell_type": "code",
   "execution_count": 17,
   "id": "783d10bf",
   "metadata": {},
   "outputs": [],
   "source": [
    "images = cv2.convertScaleAbs(images) \n",
    "for i in range(images.shape[0]):\n",
    "    #print(images[i].shape)\n",
    "    cv2.imshow(\"Image\"+str(i + 1), images[i])\n",
    "    if cv2.waitKey(0) == ord('q'):\n",
    "        break\n",
    "    cv2.destroyAllWindows()\n",
    "cv2.destroyAllWindows()"
   ]
  },
  {
   "cell_type": "code",
   "execution_count": 18,
   "id": "ac1d92a8",
   "metadata": {},
   "outputs": [],
   "source": [
    "\n",
    "batch = images                       # trasformazione di batch di immagini normali(batch) in batch di immagini grayscale\n",
    "images = np.ones((1,batch.shape[1], batch.shape[2]))                # images perchè cvtColor non accetta batch\n",
    "for img in batch:\n",
    "    #print(img.shape)\n",
    "    gray = cv2.cvtColor(img, cv2.COLOR_BGR2GRAY)\n",
    "    gray = gray.reshape((1, batch.shape[1],batch.shape[2]))\n",
    "    \n",
    "    images = np.concatenate((images, gray), axis = (0))\n",
    "    \n",
    "images = images[1:]"
   ]
  },
  {
   "cell_type": "code",
   "execution_count": 19,
   "id": "c02c257f",
   "metadata": {},
   "outputs": [
    {
     "data": {
      "text/plain": [
       "(301, 1, 720, 1280)"
      ]
     },
     "execution_count": 19,
     "metadata": {},
     "output_type": "execute_result"
    }
   ],
   "source": [
    "images = cv2.convertScaleAbs(images) \n",
    "for i in range(images.shape[0]):\n",
    "    cv2.imshow(\"Image\", images[i])\n",
    "    if cv2.waitKey(1) & 0xFF == ord('q'):\n",
    "        break\n",
    "    \n",
    "cv2.destroyAllWindows()\n",
    "\n",
    "\n",
    "images = images[:,np.newaxis]\n",
    "\n",
    "images.shape\n"
   ]
  },
  {
   "cell_type": "code",
   "execution_count": 20,
   "id": "8522d783",
   "metadata": {},
   "outputs": [],
   "source": [
    "\n",
    "def convolution(input, kernel):\n",
    "    \n",
    "    if(torch.cuda.is_available()):\n",
    "        input = input.cuda()\n",
    "        kernel = kernel.cuda()\n",
    "        print('CUDA activated! ' + 'input : ' + str(input.device) + '  kernel  '  + str(kernel.device))\n",
    "    \n",
    "    n, iC, H, W = input.shape\n",
    "    kH = kernel.shape[2]\n",
    "    kW = kernel.shape[3]\n",
    "    oC = kernel.shape[0]\n",
    "    \n",
    "    out = torch.zeros((n, oC, (H - kH + 1), (W - kW + 1)))\n",
    "    if(torch.cuda.is_available()):\n",
    "        out = out.cuda()\n",
    "        print('CUDA activated out! ' + '  out : ' + str(out.device))\n",
    "    for r in range(0, H - kH + 1):\n",
    "        for c in range(0, W - kW + 1):\n",
    "            out[:,:, r, c] = (input[:,:,r:r+kH,c:c+kW].reshape((n, 1, iC, kH, kW)) * kernel.reshape((1, oC, iC, kH, kW))).sum((2, 3, 4))\n",
    "            #print(res.shape, (r, c))\n",
    "    return out"
   ]
  },
  {
   "cell_type": "code",
   "execution_count": 21,
   "id": "0ded73f6",
   "metadata": {},
   "outputs": [
    {
     "name": "stdout",
     "output_type": "stream",
     "text": [
      "which kernel ? : 1\n"
     ]
    },
    {
     "data": {
      "text/plain": [
       "array([[ 0., -1.,  0.],\n",
       "       [-1.,  4., -1.],\n",
       "       [ 0., -1.,  0.]], dtype=float32)"
      ]
     },
     "execution_count": 21,
     "metadata": {},
     "output_type": "execute_result"
    }
   ],
   "source": [
    "i = int(input('which kernel ? : '))\n",
    "if i == 1:\n",
    "    kernel = np.array([[0, -1, 0],\n",
    "                  [-1, 4, -1], \n",
    "                  [0, -1, 0]], dtype=np.float32)\n",
    "else:\n",
    "    kernel = np.array([[-1, -1, -1],\n",
    "                  [-1, 8, -1], \n",
    "                  [-1, -1, -1]], dtype=np.float32)\n",
    "    \n",
    "kernel\n",
    "\n"
   ]
  },
  {
   "cell_type": "code",
   "execution_count": null,
   "id": "1bfdc2bd",
   "metadata": {},
   "outputs": [],
   "source": []
  },
  {
   "cell_type": "code",
   "execution_count": 22,
   "id": "bce1afe9",
   "metadata": {},
   "outputs": [
    {
     "data": {
      "text/plain": [
       "(1, 1, 3, 3)"
      ]
     },
     "execution_count": 22,
     "metadata": {},
     "output_type": "execute_result"
    }
   ],
   "source": [
    "k  = kernel + np.zeros((3, 3))\n",
    "k = k[np.newaxis,np.newaxis]\n",
    "\n",
    "k.shape"
   ]
  },
  {
   "cell_type": "code",
   "execution_count": 23,
   "id": "5e14339a",
   "metadata": {},
   "outputs": [
    {
     "name": "stdout",
     "output_type": "stream",
     "text": [
      "CUDA activated! input : cuda:0  kernel  cuda:0\n",
      "CUDA activated out!   out : cuda:0\n"
     ]
    },
    {
     "data": {
      "text/plain": [
       "torch.Size([301, 1, 718, 1278])"
      ]
     },
     "execution_count": 23,
     "metadata": {},
     "output_type": "execute_result"
    }
   ],
   "source": [
    "o = convolution(torch.from_numpy(images), torch.from_numpy(k))\n",
    "o.shape"
   ]
  },
  {
   "cell_type": "code",
   "execution_count": 71,
   "id": "87990f61",
   "metadata": {},
   "outputs": [
    {
     "data": {
      "text/plain": [
       "torch.Tensor"
      ]
     },
     "execution_count": 71,
     "metadata": {},
     "output_type": "execute_result"
    }
   ],
   "source": [
    "torch.cuda.is_available()\n",
    "torch.cuda.current_device()\n",
    "torch.cuda.get_device_name(0)\n",
    "torch.cuda.memory_reserved()\n",
    "type(o)"
   ]
  },
  {
   "cell_type": "code",
   "execution_count": 74,
   "id": "0da78b9d",
   "metadata": {},
   "outputs": [
    {
     "ename": "AttributeError",
     "evalue": "'numpy.ndarray' object has no attribute 'device'",
     "output_type": "error",
     "traceback": [
      "\u001b[1;31m---------------------------------------------------------------------------\u001b[0m",
      "\u001b[1;31mAttributeError\u001b[0m                            Traceback (most recent call last)",
      "\u001b[1;32m<ipython-input-74-4cb18cf5c2c1>\u001b[0m in \u001b[0;36m<module>\u001b[1;34m\u001b[0m\n\u001b[0;32m      1\u001b[0m \u001b[1;32mif\u001b[0m \u001b[0mtorch\u001b[0m\u001b[1;33m.\u001b[0m\u001b[0mcuda\u001b[0m\u001b[1;33m.\u001b[0m\u001b[0mis_available\u001b[0m\u001b[1;33m(\u001b[0m\u001b[1;33m)\u001b[0m\u001b[1;33m:\u001b[0m\u001b[1;33m\u001b[0m\u001b[1;33m\u001b[0m\u001b[0m\n\u001b[1;32m----> 2\u001b[1;33m     \u001b[0mprint\u001b[0m\u001b[1;33m(\u001b[0m\u001b[1;34m'Cuda available '\u001b[0m \u001b[1;33m+\u001b[0m \u001b[0mstr\u001b[0m\u001b[1;33m(\u001b[0m\u001b[0mo\u001b[0m\u001b[1;33m.\u001b[0m\u001b[0mdevice\u001b[0m\u001b[1;33m)\u001b[0m\u001b[1;33m)\u001b[0m\u001b[1;33m\u001b[0m\u001b[1;33m\u001b[0m\u001b[0m\n\u001b[0m\u001b[0;32m      3\u001b[0m     \u001b[0mo\u001b[0m \u001b[1;33m=\u001b[0m \u001b[0mo\u001b[0m\u001b[1;33m.\u001b[0m\u001b[0mcpu\u001b[0m\u001b[1;33m(\u001b[0m\u001b[1;33m)\u001b[0m\u001b[1;33m.\u001b[0m\u001b[0mnumpy\u001b[0m\u001b[1;33m(\u001b[0m\u001b[1;33m)\u001b[0m\u001b[1;33m\u001b[0m\u001b[1;33m\u001b[0m\u001b[0m\n\u001b[0;32m      4\u001b[0m \u001b[1;32melse\u001b[0m\u001b[1;33m:\u001b[0m\u001b[1;33m\u001b[0m\u001b[1;33m\u001b[0m\u001b[0m\n\u001b[0;32m      5\u001b[0m     \u001b[0mo\u001b[0m \u001b[1;33m=\u001b[0m \u001b[0mo\u001b[0m\u001b[1;33m.\u001b[0m\u001b[0mnumpy\u001b[0m\u001b[1;33m(\u001b[0m\u001b[1;33m)\u001b[0m\u001b[1;33m\u001b[0m\u001b[1;33m\u001b[0m\u001b[0m\n",
      "\u001b[1;31mAttributeError\u001b[0m: 'numpy.ndarray' object has no attribute 'device'"
     ]
    }
   ],
   "source": [
    "if torch.cuda.is_available():    \n",
    "    print('Cuda available ' + str(o.device))\n",
    "    o = o.cpu().numpy()\n",
    "else:\n",
    "    o = o.numpy()\n",
    "\n",
    "o = np.squeeze(o)\n",
    "o = cv2.convertScaleAbs(o) \n",
    "for i in range(o.shape[0]):\n",
    "    cv2.imshow(\"Image\"+str(i), o[i])\n",
    "    if cv2.waitKey(0) == ord('q'):\n",
    "        break\n",
    "    cv2.destroyAllWindows()\n",
    "cv2.destroyAllWindows()\n",
    "    \n",
    "vars = np.var(o, axis=(1, 2))\n",
    "\n",
    "mask = vars >= 140"
   ]
  },
  {
   "cell_type": "code",
   "execution_count": 75,
   "id": "fb662845",
   "metadata": {},
   "outputs": [],
   "source": [
    "m = o.copy()"
   ]
  },
  {
   "cell_type": "code",
   "execution_count": 76,
   "id": "01c71d6e",
   "metadata": {},
   "outputs": [],
   "source": [
    "t = ['Blurry', 'Not Blurry']\n",
    "for i in range(m.shape[0]):\n",
    "    if vars[i] < 134:\n",
    "        text = t[0]\n",
    "    else:\n",
    "        text = t[1]\n",
    "    r = cv2.putText(m[i], \"{}: {:.2f}\".format(text, vars[i]), (0,90),cv2.FONT_HERSHEY_SIMPLEX, 2, (255, 0, 0), 3, bottomLeftOrigin=False,)\n",
    "    cv2.imshow(\"Image\"+str(i + 1), r)\n",
    "    if cv2.waitKey(0) == ord('q'):\n",
    "        break\n",
    "    cv2.destroyAllWindows()\n",
    "cv2.destroyAllWindows()\n"
   ]
  },
  {
   "cell_type": "code",
   "execution_count": 77,
   "id": "0e91a6e0",
   "metadata": {},
   "outputs": [
    {
     "data": {
      "text/plain": [
       "(300, 718, 1278)"
      ]
     },
     "execution_count": 77,
     "metadata": {},
     "output_type": "execute_result"
    }
   ],
   "source": [
    "m[mask].shape"
   ]
  },
  {
   "cell_type": "code",
   "execution_count": null,
   "id": "516dbc7c",
   "metadata": {},
   "outputs": [],
   "source": []
  }
 ],
 "metadata": {
  "kernelspec": {
   "display_name": "Python 3",
   "language": "python",
   "name": "python3"
  },
  "language_info": {
   "codemirror_mode": {
    "name": "ipython",
    "version": 3
   },
   "file_extension": ".py",
   "mimetype": "text/x-python",
   "name": "python",
   "nbconvert_exporter": "python",
   "pygments_lexer": "ipython3",
   "version": "3.8.8"
  }
 },
 "nbformat": 4,
 "nbformat_minor": 5
}
